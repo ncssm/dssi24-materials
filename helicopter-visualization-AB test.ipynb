{
 "cells": [
  {
   "cell_type": "markdown",
   "id": "b9d29384-3b4e-4ef8-87b2-24603b27818c",
   "metadata": {},
   "source": [
    "# Investigating helicopter data\n",
    "## Secondary Heading\n",
    "- list 1\n",
    "- list 2\n",
    "- list 3"
   ]
  },
  {
   "cell_type": "code",
   "execution_count": null,
   "id": "0b7740ab-0617-45e6-b015-3b979d27d52f",
   "metadata": {
    "tags": []
   },
   "outputs": [],
   "source": [
    "from datascience import *\n",
    "import numpy as np\n",
    "\n",
    "%matplotlib inline\n",
    "import matplotlib.pyplot as plots\n",
    "plots.style.use('fivethirtyeight')"
   ]
  },
  {
   "cell_type": "markdown",
   "id": "27e76d1e-7b9c-4a6e-bcc5-fead95ea8f0e",
   "metadata": {},
   "source": [
    "## Loading the data\n",
    "To load the data from a `.csv` file into a Table, you can use the `read_table` function as shown below. Run the code below to store the entire dataset into a Table named `helicopter`."
   ]
  },
  {
   "cell_type": "code",
   "execution_count": null,
   "id": "2c63e34a-c532-42b2-bf69-d8d06242a78d",
   "metadata": {
    "tags": []
   },
   "outputs": [],
   "source": [
    "helicopter = Table.read_table(\"data/helicopters2024.csv\")"
   ]
  },
  {
   "cell_type": "markdown",
   "id": "42a6c281-cfc5-4ec8-9a29-26aa83590428",
   "metadata": {},
   "source": [
    "## Investigating the data\n",
    "\n",
    "You will likely want to learn a bit of summary information regarding your data. There are several commands to help you do this quickly.\n",
    "\n",
    "\n",
    "### Inspecting the data\n",
    "You can start by looking at the first 10 rows of the Table just by running a code well with the Table's name."
   ]
  },
  {
   "cell_type": "code",
   "execution_count": null,
   "id": "222290e1-0256-4c2e-8c33-3bd68dace223",
   "metadata": {
    "tags": []
   },
   "outputs": [],
   "source": [
    "helicopter"
   ]
  },
  {
   "cell_type": "markdown",
   "id": "38d8130a-e153-4b41-925d-9de06986498e",
   "metadata": {},
   "source": [
    "### Size of your data\n",
    "You can determine the dimensions of your data using the `.num_rows` and `.num_columns` commands."
   ]
  },
  {
   "cell_type": "code",
   "execution_count": null,
   "id": "9c42fb6e-a26c-4e67-9126-0b4c604b7269",
   "metadata": {
    "tags": []
   },
   "outputs": [],
   "source": [
    "helicopter.num_rows"
   ]
  },
  {
   "cell_type": "code",
   "execution_count": null,
   "id": "9a3d6787-eb10-428f-9d4b-87a342d03d44",
   "metadata": {
    "tags": []
   },
   "outputs": [],
   "source": [
    "helicopter.num_columns"
   ]
  },
  {
   "cell_type": "markdown",
   "id": "c32ad6fe-733c-43fc-9e6c-6568cbc6e9f6",
   "metadata": {},
   "source": [
    "### Summary statistics\n",
    "\n",
    "You may wish to calculate some summary statistics on your data. You can use the `numpy` library which contains many statistical functions. First, select the function you wish to use, then, select column you wish to use in your computation using the `.column()` command. \n",
    "\n",
    "Common `numpy` statistics functions are:\n",
    "\n",
    "* **Arithmetic Mean**: `np.mean` / `np.nanmean`\n",
    "* **Median**: `np.median` / `np.nanmedian`\n",
    "* **Standard Deviation**: `np.std` / `np.nanstd`\n",
    "* **Variance**: `np.var` / `np.nanvar`"
   ]
  },
  {
   "cell_type": "code",
   "execution_count": null,
   "id": "7c0850d4-ff64-4827-a4ee-5679a019c81f",
   "metadata": {
    "tags": []
   },
   "outputs": [],
   "source": [
    "np.mean(helicopter.column('time'))"
   ]
  },
  {
   "cell_type": "code",
   "execution_count": null,
   "id": "b3348bc2-04c6-4562-9b55-07c8efa2f744",
   "metadata": {},
   "outputs": [],
   "source": [
    "long_mean = np.mean(helicopter.where('rotor','L').column('time'))"
   ]
  },
  {
   "cell_type": "code",
   "execution_count": null,
   "id": "0b12fb98-20d0-4df9-a230-d2e15d8794c4",
   "metadata": {},
   "outputs": [],
   "source": [
    "short_mean = np.mean(helicopter.where('rotor','S').column('time'))"
   ]
  },
  {
   "cell_type": "markdown",
   "id": "381f9150-28dc-4687-9616-ae7a9473e263",
   "metadata": {},
   "source": [
    "### Grouping your data\n",
    "\n",
    "You'll often want to perform calculations on a particular subgroupd of your dataset. You can use the `.group` function to help you perform such a task.\n",
    "\n",
    "The `.group` function takes as its argument the label of the column that contains the categories. By default it returns a table of counts of rows in each category."
   ]
  },
  {
   "cell_type": "code",
   "execution_count": null,
   "id": "66be1a39-c959-41ad-8a9c-c1c6bf0f37b9",
   "metadata": {
    "tags": []
   },
   "outputs": [],
   "source": [
    "helicopter.group('rotor')"
   ]
  },
  {
   "cell_type": "code",
   "execution_count": null,
   "id": "4172df05-47cf-4c11-83ba-332b1ede240f",
   "metadata": {
    "tags": []
   },
   "outputs": [],
   "source": [
    "helicopter.group(['rotor','weight'])"
   ]
  },
  {
   "cell_type": "markdown",
   "id": "fc8bf8d2-8256-4517-aaa0-61bf9f65627f",
   "metadata": {},
   "source": [
    "## Filtering the data\n",
    "\n",
    "You may what to only use part of your dataset at a time. You can use `where` functions to specify how to filter down to just the rows/observations you're interested in using. **Note:** This is not modifying the original table at all, it just creates a new table that contains the requested rows.\n",
    "\n",
    "Common actions used in filtering are:\n",
    "\n",
    "* `are.equal_to`\n",
    "* `are.not_equal_to(x)`\n",
    "* `are.above(x)`\n",
    "* `are.above_or_equal_to(x)`\n",
    "* `are.below(x)`\n",
    "* `are.below_or_equal_to(x)`\n",
    "* `are.between(x, y)`\n",
    "* `are.between_or_equal_to(x,y)`"
   ]
  },
  {
   "cell_type": "code",
   "execution_count": null,
   "id": "25c76470-014f-463b-a7d0-1f6311945a84",
   "metadata": {
    "tags": []
   },
   "outputs": [],
   "source": [
    "helicopter.where('rotor','L')"
   ]
  },
  {
   "cell_type": "code",
   "execution_count": null,
   "id": "e6e44b1d-b963-4a4e-9306-c2cb9110d8f0",
   "metadata": {
    "tags": []
   },
   "outputs": [],
   "source": [
    "# Does same thing as .where('rotor','L') because are.equal_to is the default predicate)\n",
    "helicopter.where('rotor',are.equal_to('L'))"
   ]
  },
  {
   "cell_type": "code",
   "execution_count": null,
   "id": "2212f1fb-c97c-4a82-b284-14ef34b938e8",
   "metadata": {},
   "outputs": [],
   "source": [
    "# this stacks the outputs together so you only have trials with long rotors and weighted\n",
    "helicopter.where('rotor','L').where('weight','Y')"
   ]
  },
  {
   "cell_type": "markdown",
   "id": "f58f9d85-e016-423a-8d4c-71aabe4ccf21",
   "metadata": {},
   "source": [
    "If you want to save the result of a filter, you need to assign it a new name. It is a best practice not to overwrite any tables in a notebook, but instead create a new table with a new name to store any filtered or otherwise modified data that you intend to use again later in the notebook."
   ]
  },
  {
   "cell_type": "markdown",
   "id": "28ddedee-5605-4ef2-9475-05dd8f373e4e",
   "metadata": {},
   "source": [
    "The code below will create a new Table `good_helicopter` that only contains the observations with numerical times and were not labeled as containing an anomaly in the flight."
   ]
  },
  {
   "cell_type": "code",
   "execution_count": null,
   "id": "8e915497-33c3-46a3-948a-7a4f12956a91",
   "metadata": {
    "tags": []
   },
   "outputs": [],
   "source": [
    "good_helicopter = helicopter.where('time', are.not_equal_to(\"nan\")).where('irregular', are.not_equal_to(\"Y\"))"
   ]
  },
  {
   "cell_type": "markdown",
   "id": "b0e92448-f3db-4307-a065-3ea7828cbce0",
   "metadata": {},
   "source": [
    "## Visualizing the data"
   ]
  },
  {
   "cell_type": "markdown",
   "id": "c839c027-7fce-4f25-b5ac-05f2c7bae7e0",
   "metadata": {},
   "source": [
    "You can easily create bar charts, scatter plots, line plots, and histograms depending on the data you are hoping to visualize."
   ]
  },
  {
   "cell_type": "markdown",
   "id": "7d907ff0-18c2-4693-917f-c34576f5703b",
   "metadata": {},
   "source": [
    "### Bar charts\n",
    "\n",
    "To create a bar chart you need a Table that contains a frequency count of categorical varibles. We can use the `.group` function to create such a table, and then generate the bar chart using the `bar()` function. In both cases, be sure to specify which column you are wishing to group and visualize the frequency. **Note:** When creating frequency bar charts, its usually best to sort the data before creating the chart. The code below wil use the `.sort` function to sort by the frequency in descending order before creating the bar chart."
   ]
  },
  {
   "cell_type": "code",
   "execution_count": null,
   "id": "cabb35bf-7616-4c9b-a477-74e717beda15",
   "metadata": {
    "tags": []
   },
   "outputs": [],
   "source": [
    "helicopter.group('rotor',np.mean)"
   ]
  },
  {
   "cell_type": "code",
   "execution_count": null,
   "id": "86a1d5e3-1b33-4176-8699-b97be64c5900",
   "metadata": {
    "tags": []
   },
   "outputs": [],
   "source": [
    "good_helicopter.group(['rotor','weight'],np.mean)"
   ]
  },
  {
   "cell_type": "code",
   "execution_count": null,
   "id": "acf4d2f7-9fbd-491e-91fb-313176a16956",
   "metadata": {
    "tags": []
   },
   "outputs": [],
   "source": [
    "helicopter.group('rotor').bar('rotor')"
   ]
  },
  {
   "cell_type": "markdown",
   "id": "5f994499-18ae-4983-9a05-53e85a71b02b",
   "metadata": {},
   "source": [
    "### Histograms\n",
    "\n",
    "To investigate a distribution of numerical values, use a histograms! The `.hist()` function can handle this quickly. Specify the numerical column you wish to create a histogram from."
   ]
  },
  {
   "cell_type": "code",
   "execution_count": null,
   "id": "47634a95-924e-4bc7-a03c-80ba377c2b13",
   "metadata": {
    "tags": []
   },
   "outputs": [],
   "source": [
    "good_helicopter.hist('time',bins=np.arange(1,3,.25),unit=\"second\",group='rotor')\n",
    "plots.scatter(long_mean, -0.01, color = 'red', s = 60, marker=\"^\", zorder = 2);\n",
    "plots.scatter(short_mean, -0.01, color = 'green', s = 60, marker=\"^\", zorder = 2);"
   ]
  },
  {
   "cell_type": "code",
   "execution_count": null,
   "id": "86754f23-e24a-4710-a470-66e66c6d4bdf",
   "metadata": {
    "tags": []
   },
   "outputs": [],
   "source": [
    "good_helicopter.bin(bins=np.arange(1,3,.25)).column('time count')/good_helicopter.num_rows*100"
   ]
  },
  {
   "cell_type": "markdown",
   "id": "df460739-abc8-46d4-83ea-ec8c3a33854d",
   "metadata": {},
   "source": [
    "# AB Testing\n",
    "\n",
    "To perform an A/B test, we'll need to compute similar statistics for our many simulations we'll run. Writing a function which returns a test statistic will be a great way to save time. Write a function named `find_test_stat` which takes in the arguments `table`, `labels_col`, and `values_col` that calculates the test statistic required for A/B testing.\n",
    "\n",
    "The `table` passed into this function will be a permutation of our original table and structured the same way. `labels_col` will be passed a string that matches the column label in `table` that contains the labels of the categories you'll be grouping by. `values_col` will be passed a string that matches the column label that contains the values that you'll be using to compute the test statistic.\n",
    "\n",
    "When you've written this function, you must be able to pass it any table and two specified column labels and the function should compute a test statistic required for an A/B test, not just for this problem, but any problem! For example, running `find_test_stat(helicopter, \"rotor\", \"time\")` should return the exact same test statistic you generated in an earlier question and running `find_test_stat(helicopter, \"weight\", \"time\")` would compute the test statistic based on the groups of time and **\"weight\"** columns."
   ]
  },
  {
   "cell_type": "code",
   "execution_count": null,
   "id": "492da1b5-dd5a-4d8d-87da-b4e4a8bca10d",
   "metadata": {},
   "outputs": [],
   "source": [
    "def find_test_stat(table, labels_col, values_col):\n",
    "    average_values = table.select(labels_col,values_col).group(labels_col,np.average).column(1)\n",
    "    return average_values.item(0)-average_values.item(1)\n",
    "\n",
    "observed_difference = find_test_stat(helicopter, \"rotor\", \"time\")"
   ]
  },
  {
   "cell_type": "code",
   "execution_count": null,
   "id": "b1329c84-e38e-4714-b20a-427e8d9d8b6a",
   "metadata": {},
   "outputs": [],
   "source": [
    "# out test st is whether the difference of means between long rotors and short rotors\n",
    "long_mean - short_mean"
   ]
  },
  {
   "cell_type": "code",
   "execution_count": null,
   "id": "c51c9625-9b4b-49c6-a8c2-abe8181bf8d2",
   "metadata": {},
   "outputs": [],
   "source": [
    "find_test_stat(helicopter,\"weight\",\"time\")"
   ]
  },
  {
   "cell_type": "markdown",
   "id": "6fb93f54-bc93-4ae2-b8e2-a2d905cf48b3",
   "metadata": {},
   "source": [
    "Write a function `simulate_and_test_statistic` to compute one trial of our A/B test. Your function should run a simulation and return a test statistic.\n",
    "\n",
    "**Hint:** You can \"shuffle\" the labels by using `.sample(with_replacement = False)` on the entire Table, and then select the column that contains the newly shuffled labels. Then, you can either overwrite the existing labels, **or**, extend the table with a new column labeled something similar to \"shuffled labels\". Just make sure you pass the correct label on to the `find_test_stat` function!"
   ]
  },
  {
   "cell_type": "code",
   "execution_count": null,
   "id": "19f28072-3fe9-4fed-9e5f-4402c45996c2",
   "metadata": {},
   "outputs": [],
   "source": [
    "def simulate_and_test_statistic(table, labels_col, values_col):\n",
    "    shuffled_table = table.with_column(\"Shuffled labels\",table.sample(with_replacement=False).column(labels_col))\n",
    "    # print (shuffled_table)\n",
    "    return find_test_stat(shuffled_table,\"Shuffled labels\",values_col)\n",
    "    \n",
    "simulate_and_test_statistic(helicopter, \"rotor\", \"time\")"
   ]
  },
  {
   "cell_type": "code",
   "execution_count": null,
   "id": "3bd47894-4a8f-47ca-80d0-6f4c278f575b",
   "metadata": {},
   "outputs": [],
   "source": [
    "# simulate again\n",
    "simulate_and_test_statistic(helicopter, \"rotor\", \"time\")"
   ]
  },
  {
   "cell_type": "markdown",
   "id": "87c3a130-71cf-44c1-ac93-844133248ab5",
   "metadata": {},
   "source": [
    "# multiple simulations\n",
    "Use the `simulate_and_test_statistic` to simulate 5,000 trials of our A/B test and assign an array of the test statistics to `differences`."
   ]
  },
  {
   "cell_type": "code",
   "execution_count": null,
   "id": "04eabbbe-33a8-4b2c-b9ef-195d0682f051",
   "metadata": {},
   "outputs": [],
   "source": [
    "differences = make_array()\n",
    "for i in np.arange(5000):\n",
    "    differences = np.append(differences,simulate_and_test_statistic(helicopter,\"rotor\",\"time\"))\n",
    "differences"
   ]
  },
  {
   "cell_type": "markdown",
   "id": "afe5a58c-6632-419f-aad8-02d34876aa9d",
   "metadata": {},
   "source": [
    "Run the cell below to view a histogram of your simulated test statistics plotted with your observed test statistic. Think about what this might imply about the p-value and if there is sufficient evidence to reject the null hypothesis."
   ]
  },
  {
   "cell_type": "code",
   "execution_count": null,
   "id": "de4fd6b7-4d1b-4ed1-a29e-4e1ef632a52f",
   "metadata": {},
   "outputs": [],
   "source": [
    "Table().with_column('Difference Between Group Means', differences).hist()\n",
    "plots.scatter(observed_difference, -0.01, color = 'red', s = 60, marker=\"^\", zorder = 2);"
   ]
  },
  {
   "cell_type": "code",
   "execution_count": null,
   "id": "4d5ffcc9-bda6-4e68-bbc4-01f2d092108e",
   "metadata": {},
   "outputs": [],
   "source": [
    "empirical_p = np.mean(differences>=observed_difference)\n",
    "empirical_p"
   ]
  },
  {
   "cell_type": "code",
   "execution_count": null,
   "id": "b2dc54cf-e19e-436d-90b1-2fc7817cc510",
   "metadata": {},
   "outputs": [],
   "source": []
  }
 ],
 "metadata": {
  "kernelspec": {
   "display_name": "Python 3 (ipykernel)",
   "language": "python",
   "name": "python3"
  },
  "language_info": {
   "codemirror_mode": {
    "name": "ipython",
    "version": 3
   },
   "file_extension": ".py",
   "mimetype": "text/x-python",
   "name": "python",
   "nbconvert_exporter": "python",
   "pygments_lexer": "ipython3",
   "version": "3.11.5"
  }
 },
 "nbformat": 4,
 "nbformat_minor": 5
}
