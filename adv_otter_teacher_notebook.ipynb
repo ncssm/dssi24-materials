{
 "cells": [
  {
   "cell_type": "raw",
   "id": "6f1934ca-5e7f-4fad-90d7-3e5fdfac6e2e",
   "metadata": {},
   "source": [
    "# ASSIGNMENT CONFIG\n",
    "\n",
    "export_cell:\n",
    "  pdf: false\n",
    "  run_tests: false\n",
    "  force_save: true\n",
    "\n",
    "python_version: 3.11.4\n",
    "\n",
    "files:\n",
    "  - data/penguins.csv"
   ]
  },
  {
   "cell_type": "markdown",
   "id": "2dcd068f-7d33-435e-83d5-f308b6dfe62e",
   "metadata": {},
   "source": [
    "# Creating an Otter Grader Teacher notebook\n",
    "\n",
    "First, you'll notice that the first cell in a teacher notebook is a configuration cell. Assignment configuration, included by convention as the first cell of the notebook, places YAML-formatted configurations in a raw cell that begins with the comment `# ASSIGNMENT CONFIG`.\n",
    "\n",
    "You can set some specific parameters about your assignment using keywords. For a full list of options and their default values, refer to [Otter Grader reference](https://otter-grader.readthedocs.io/en/latest/otter_assign/notebook_format.html).\n",
    "\n",
    "In this case, the config specifies that when students export their work from the student notebook, a PDF is NOT created (`pdf: false`), it will NOT re-run all the tests (`run_tests: false`), and it WILL save their notebook automatically before exporting (`force_save: true`). These are all changes from the default behavior for the `export_cell` in a student notebook."
   ]
  },
  {
   "cell_type": "markdown",
   "id": "90809e38-2a0b-438e-a6b8-0edce5ad5cec",
   "metadata": {},
   "source": [
    "## Starting an assignment\n",
    "\n",
    "You'll want to start creating a notebook from here on out in a way that you'd want students to interact with it. Let's start by importing libraries that you'll want students to use."
   ]
  },
  {
   "cell_type": "code",
   "execution_count": null,
   "id": "fa07853a-d39b-405b-bdd1-6d9525c618aa",
   "metadata": {},
   "outputs": [],
   "source": [
    "import warnings\n",
    "warnings.simplefilter(action='ignore', category=FutureWarning)\n",
    "\n",
    "import pandas as pd\n",
    "import matplotlib.pyplot as plt\n",
    "import numpy as np\n",
    "import seaborn as sns"
   ]
  },
  {
   "cell_type": "markdown",
   "id": "f8c600c0-fa0b-4e4a-b3d2-c207b4c73313",
   "metadata": {},
   "source": [
    "You can also pre-populate some \"free\" code for students to use, maybe to load in the data set for the assignment."
   ]
  },
  {
   "cell_type": "code",
   "execution_count": null,
   "id": "3c6068e6-b028-4c59-a256-4f385e4d10d0",
   "metadata": {},
   "outputs": [],
   "source": [
    "penguins = pd.read_csv(\"data/penguins.csv\", encoding='utf-8')"
   ]
  },
  {
   "cell_type": "markdown",
   "id": "7556e9e6-409e-41f1-aca5-55a3f3b5f160",
   "metadata": {},
   "source": [
    "Now, let's write a question that we want students to answer using code. Pay attention to the extra formatting that precedes and follows the question."
   ]
  },
  {
   "cell_type": "raw",
   "id": "34276a51-0bd5-4f7a-9d92-042fa62a13ce",
   "metadata": {},
   "source": [
    "# BEGIN QUESTION\n",
    "name: q1"
   ]
  },
  {
   "cell_type": "markdown",
   "id": "c79203f1-a513-4282-a648-b6f8104a7fb2",
   "metadata": {},
   "source": [
    "### Question 1\n",
    "Create a new datafame called `male_penguins` that is a subset of the `penguins` dataframe, but only contains observations on male penguins."
   ]
  },
  {
   "cell_type": "raw",
   "id": "a4966d5b-829e-48c6-bb30-982bb2497b48",
   "metadata": {},
   "source": [
    "# BEGIN SOLUTION"
   ]
  },
  {
   "cell_type": "code",
   "execution_count": null,
   "id": "c9e4b642-2a5a-4792-bb59-b52c0b6a02e5",
   "metadata": {},
   "outputs": [],
   "source": [
    "male_penguins = penguins[ penguins[\"sex\"] == \"male\" ] # SOLUTION"
   ]
  },
  {
   "cell_type": "raw",
   "id": "b42828cf-2c05-4dae-bd80-c18fa6bb079b",
   "metadata": {},
   "source": [
    "# END SOLUTION"
   ]
  },
  {
   "cell_type": "raw",
   "id": "93c4183c-f2a1-4005-b1ed-f4855a64b3a1",
   "metadata": {},
   "source": [
    "# BEGIN TESTS"
   ]
  },
  {
   "cell_type": "code",
   "execution_count": null,
   "id": "caffbb1e-0fd3-4669-b638-9069a2d70c68",
   "metadata": {},
   "outputs": [],
   "source": [
    "\"\"\" # BEGIN TEST CONFIG\n",
    "hidden: false\n",
    "points: 0.25\n",
    "success_message: ✅ You assigned a dataframe to `male_penguins`\n",
    "failure_message: ❌ You did not assign a dataframe to `male_penguins`\n",
    "\"\"\" # END TEST CONFIG\n",
    "\n",
    "type(male_penguins) == pd.DataFrame"
   ]
  },
  {
   "cell_type": "code",
   "execution_count": null,
   "id": "cc7d72d3-fea4-4d54-9da3-ed8a7ca55e82",
   "metadata": {},
   "outputs": [],
   "source": [
    "\"\"\" # BEGIN TEST CONFIG\n",
    "hidden: false\n",
    "points: 0.25\n",
    "success_message: ✅ `male_penguins` has the correct shape\n",
    "failure_message: ❌ `male_penguins` does not have the correct shape\n",
    "\"\"\" # END TEST CONFIG\n",
    "\n",
    "male_penguins.shape"
   ]
  },
  {
   "cell_type": "code",
   "execution_count": null,
   "id": "854fed36-7ad0-4ed7-a6eb-15444738d294",
   "metadata": {},
   "outputs": [],
   "source": [
    "\"\"\" # BEGIN TEST CONFIG\n",
    "hidden: true\n",
    "points: 0.5\n",
    "\"\"\" # END TEST CONFIG\n",
    "\n",
    "np.mean(male_penguins[\"bill_length_mm\"])"
   ]
  },
  {
   "cell_type": "raw",
   "id": "07362bfc-d728-46d9-bae5-8a469e29cc63",
   "metadata": {},
   "source": [
    "# END TESTS"
   ]
  },
  {
   "cell_type": "raw",
   "id": "f9d50319-eea9-455a-b3ea-3e8d799572a0",
   "metadata": {},
   "source": [
    "# END QUESTION"
   ]
  },
  {
   "cell_type": "markdown",
   "id": "5582bc90-befc-4244-8b33-36b51b55e8c5",
   "metadata": {},
   "source": [
    "Now let's ask as question that will NOT be an autograded question. In this question, we'll set up a custom prompt so we can decide exactly what the starting code students will have to work from."
   ]
  },
  {
   "cell_type": "raw",
   "id": "bfe8b57d-2ad2-481e-9d6a-516cfd32bd34",
   "metadata": {},
   "source": [
    "# BEGIN QUESTION\n",
    "name: q2\n",
    "manual: true"
   ]
  },
  {
   "cell_type": "markdown",
   "id": "12befa6f-555c-47a4-a151-0637791faca8",
   "metadata": {},
   "source": [
    "### Question 2\n",
    "\n",
    "Create a scatter plot of bill length (x) vs flipper length (y) using the species to color the datapoints."
   ]
  },
  {
   "cell_type": "raw",
   "id": "ea6987ff-4ada-4b99-9cb8-ab1953c4df73",
   "metadata": {},
   "source": [
    "# BEGIN SOLUTION"
   ]
  },
  {
   "cell_type": "code",
   "execution_count": null,
   "id": "af7d00ff-e2a5-42a3-8c59-f332b352dec3",
   "metadata": {},
   "outputs": [],
   "source": [
    "# BEGIN SOLUTION NO PROMPT\n",
    "sns.scatterplot(data=penguins, x='bill_length_mm', y=\"flipper_length_mm\", hue='species', palette=\"viridis\")\n",
    "plt.show()\n",
    "# END SOLUTION\n",
    "\"\"\" # BEGIN PROMPT\n",
    "sns.scatterplot(...)\n",
    "plt.show()\n",
    "\"\"\"; # END PROMPT"
   ]
  },
  {
   "cell_type": "raw",
   "id": "2f97599d-8b5a-4a04-99da-fea24123722c",
   "metadata": {},
   "source": [
    "# END SOLUTION"
   ]
  },
  {
   "cell_type": "raw",
   "id": "7eee398b-86e1-4084-a534-9ca0879af1a5",
   "metadata": {},
   "source": [
    "# END QUESTION"
   ]
  }
 ],
 "metadata": {
  "kernelspec": {
   "display_name": "Python 3 (ipykernel)",
   "language": "python",
   "name": "python3"
  },
  "language_info": {
   "codemirror_mode": {
    "name": "ipython",
    "version": 3
   },
   "file_extension": ".py",
   "mimetype": "text/x-python",
   "name": "python",
   "nbconvert_exporter": "python",
   "pygments_lexer": "ipython3",
   "version": "3.11.5"
  }
 },
 "nbformat": 4,
 "nbformat_minor": 5
}
