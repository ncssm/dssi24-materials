{
 "cells": [
  {
   "cell_type": "markdown",
   "id": "9f5d9d8e-871e-405f-92ab-44089377dc1b",
   "metadata": {},
   "source": [
    "# K-means in Python\n",
    "\n",
    "This notebook will walk you through implementing the k-means algorithm using the `scikit` learn framework.\n",
    "\n",
    "Start by importing the `pandas`, `numpy`, `seaborn`, and `matplotlib` libraries as before, and then also import the necessary functions from the `sklean` library."
   ]
  },
  {
   "cell_type": "code",
   "execution_count": null,
   "id": "397c00db-9c69-4374-90dc-c74cbe1cbd71",
   "metadata": {},
   "outputs": [],
   "source": [
    "import warnings\n",
    "warnings.simplefilter(action='ignore', category=FutureWarning)\n",
    "\n",
    "import pandas as pd\n",
    "import numpy as np\n",
    "import matplotlib.pyplot as plt\n",
    "import seaborn as sns\n",
    "\n",
    "from sklearn.preprocessing import StandardScaler\n",
    "from sklearn.cluster import KMeans"
   ]
  },
  {
   "cell_type": "markdown",
   "id": "bec5eed7-fde8-4702-b87f-de218f0f7e20",
   "metadata": {},
   "source": [
    "Let's load up the same penguin data, but this time we'll remove any categorical variables from the data set so we can see how well the k-means algorithm can cluster our data without knowing the species information."
   ]
  },
  {
   "cell_type": "code",
   "execution_count": null,
   "id": "9df0fb17-b555-4936-b7ea-304c60e3c813",
   "metadata": {},
   "outputs": [],
   "source": [
    "# Load the data\n",
    "penguins = pd.read_csv('data/penguins_unlabeled.csv')"
   ]
  },
  {
   "cell_type": "markdown",
   "id": "dd3cc4e0-22df-4804-82ec-a735c4b0e1c5",
   "metadata": {},
   "source": [
    "Next, we'll clean up the data a bit by removing rows with missing values, and only select the columns that deal with length and mass measurements."
   ]
  },
  {
   "cell_type": "code",
   "execution_count": null,
   "id": "1d09cc72-5965-4e87-aacb-9f4f3dfe97bf",
   "metadata": {},
   "outputs": [],
   "source": [
    "# Preprocess the data\n",
    "penguins = penguins.dropna()  # Remove rows with missing values\n",
    "\n",
    "# Select features for clustering\n",
    "X = penguins[['bill_length_mm', 'bill_depth_mm', 'flipper_length_mm', 'body_mass_g']]"
   ]
  },
  {
   "cell_type": "markdown",
   "id": "39505d0f-dbe5-4a19-8fde-8cd114f082f8",
   "metadata": {},
   "source": [
    "Then, these columns need to be scaled so that they're all on a similar scale. `sklean` comes with a standard scaler which will convert value in a column to its corresponding z-score."
   ]
  },
  {
   "cell_type": "code",
   "execution_count": null,
   "id": "be51cef6-9807-4463-88e3-bd830c3c544b",
   "metadata": {},
   "outputs": [],
   "source": [
    "# Normalize the features\n",
    "scaler = StandardScaler()\n",
    "X_scaled = scaler.fit_transform(X)\n",
    "X_scaled"
   ]
  },
  {
   "cell_type": "code",
   "execution_count": null,
   "id": "d80d6139-c7d0-4e34-8231-0205e03be7bb",
   "metadata": {},
   "outputs": [],
   "source": [
    "# Apply k-means clustering\n",
    "kmeans = KMeans(n_clusters=3, init='k-means++')\n",
    "penguins['cluster'] = kmeans.fit_predict(X_scaled)\n",
    "penguins"
   ]
  },
  {
   "cell_type": "code",
   "execution_count": null,
   "id": "b6ad560d-99ba-43ab-aeee-47eee1f6c887",
   "metadata": {},
   "outputs": [],
   "source": [
    "# Visualize the results (using the first two features)\n",
    "sns.scatterplot(data=penguins, x='bill_length_mm', y='flipper_length_mm', hue='cluster', palette=\"viridis\")\n",
    "\n",
    "# Add labels\n",
    "plt.xlabel('Bill Length (mm)')\n",
    "plt.ylabel('Bill Depth (mm)')\n",
    "plt.title('K-means Clustering of Penguins')\n",
    "plt.show()"
   ]
  },
  {
   "cell_type": "code",
   "execution_count": null,
   "id": "2b331c5c-20aa-4d01-a910-099d23d9b9d9",
   "metadata": {},
   "outputs": [],
   "source": [
    "# Print cluster centers\n",
    "cluster_centers = scaler.inverse_transform(kmeans.cluster_centers_)\n",
    "cluster_centers_df = pd.DataFrame(cluster_centers, columns=['bill_length_mm', 'bill_depth_mm', 'flipper_length_mm', 'body_mass_g'])\n",
    "print(\"Cluster Centers:\")\n",
    "print(cluster_centers_df)"
   ]
  },
  {
   "cell_type": "code",
   "execution_count": null,
   "id": "c998ec0f-480f-44fe-9855-a6ac47ec507f",
   "metadata": {},
   "outputs": [],
   "source": [
    "# Print the number of data points in each cluster\n",
    "print(\"\\nCluster Sizes:\")\n",
    "print(penguins['cluster'].value_counts().sort_index())"
   ]
  }
 ],
 "metadata": {
  "kernelspec": {
   "display_name": "Python 3 (ipykernel)",
   "language": "python",
   "name": "python3"
  },
  "language_info": {
   "codemirror_mode": {
    "name": "ipython",
    "version": 3
   },
   "file_extension": ".py",
   "mimetype": "text/x-python",
   "name": "python",
   "nbconvert_exporter": "python",
   "pygments_lexer": "ipython3",
   "version": "3.11.5"
  }
 },
 "nbformat": 4,
 "nbformat_minor": 5
}
