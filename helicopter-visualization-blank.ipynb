{
 "cells": [
  {
   "cell_type": "markdown",
   "id": "b9d29384-3b4e-4ef8-87b2-24603b27818c",
   "metadata": {},
   "source": [
    "# Investigating helicopter data"
   ]
  },
  {
   "cell_type": "code",
   "execution_count": null,
   "id": "0b7740ab-0617-45e6-b015-3b979d27d52f",
   "metadata": {
    "tags": []
   },
   "outputs": [],
   "source": [
    "from datascience import *\n",
    "import numpy as np\n",
    "\n",
    "%matplotlib inline\n",
    "import matplotlib.pyplot as plots\n",
    "plots.style.use('fivethirtyeight')"
   ]
  },
  {
   "cell_type": "markdown",
   "id": "27e76d1e-7b9c-4a6e-bcc5-fead95ea8f0e",
   "metadata": {},
   "source": [
    "## Loading the data\n",
    "To load the data from a `.csv` file into a Table, you can use the `read_table` function as shown below. Run the code below to store the entire dataset into a Table named `helicopter`."
   ]
  },
  {
   "cell_type": "code",
   "execution_count": null,
   "id": "2c63e34a-c532-42b2-bf69-d8d06242a78d",
   "metadata": {
    "tags": []
   },
   "outputs": [],
   "source": [
    "helicopter = Table.read_table(\"data/helicoptes2024.csv\")"
   ]
  },
  {
   "cell_type": "markdown",
   "id": "42a6c281-cfc5-4ec8-9a29-26aa83590428",
   "metadata": {},
   "source": [
    "## Investigating the data\n",
    "\n",
    "You will likely want to learn a bit of summary information regarding your data. There are several commands to help you do this quickly.\n",
    "\n",
    "\n",
    "### Inspecting the data\n",
    "You can start by looking at the first 10 rows of the Table just by running a code well with the Table's name."
   ]
  },
  {
   "cell_type": "code",
   "execution_count": null,
   "id": "222290e1-0256-4c2e-8c33-3bd68dace223",
   "metadata": {
    "tags": []
   },
   "outputs": [],
   "source": []
  },
  {
   "cell_type": "markdown",
   "id": "38d8130a-e153-4b41-925d-9de06986498e",
   "metadata": {},
   "source": [
    "### Size of your data\n",
    "You can determine the dimensions of your data using the `.num_rows` and `.num_columns` commands."
   ]
  },
  {
   "cell_type": "code",
   "execution_count": null,
   "id": "9c42fb6e-a26c-4e67-9126-0b4c604b7269",
   "metadata": {
    "tags": []
   },
   "outputs": [],
   "source": []
  },
  {
   "cell_type": "code",
   "execution_count": null,
   "id": "9a3d6787-eb10-428f-9d4b-87a342d03d44",
   "metadata": {
    "tags": []
   },
   "outputs": [],
   "source": []
  },
  {
   "cell_type": "markdown",
   "id": "c32ad6fe-733c-43fc-9e6c-6568cbc6e9f6",
   "metadata": {},
   "source": [
    "### Summary statistics\n",
    "\n",
    "You may wish to calculate some summary statistics on your data. You can use the `numpy` library which contains many statistical functions. First, select the function you wish to use, then, select column you wish to use in your computation using the `.column()` command. \n",
    "\n",
    "Common `numpy` statistics functions are:\n",
    "\n",
    "* **Arithmetic Mean**: `np.mean` / `np.nanmean`\n",
    "* **Median**: `np.median` / `np.nanmedian`\n",
    "* **Standard Deviation**: `np.std` / `np.nanstd`\n",
    "* **Variance**: `np.var` / `np.nanvar`"
   ]
  },
  {
   "cell_type": "code",
   "execution_count": null,
   "id": "7c0850d4-ff64-4827-a4ee-5679a019c81f",
   "metadata": {
    "tags": []
   },
   "outputs": [],
   "source": []
  },
  {
   "cell_type": "markdown",
   "id": "381f9150-28dc-4687-9616-ae7a9473e263",
   "metadata": {},
   "source": [
    "### Grouping your data\n",
    "\n",
    "You'll often want to perform calculations on a particular subgroupd of your dataset. You can use the `.group` function to help you perform such a task.\n",
    "\n",
    "The `.group` function takes as its argument the label of the column that contains the categories. By default it returns a table of counts of rows in each category."
   ]
  },
  {
   "cell_type": "code",
   "execution_count": null,
   "id": "66be1a39-c959-41ad-8a9c-c1c6bf0f37b9",
   "metadata": {
    "tags": []
   },
   "outputs": [],
   "source": []
  },
  {
   "cell_type": "markdown",
   "id": "fc8bf8d2-8256-4517-aaa0-61bf9f65627f",
   "metadata": {},
   "source": [
    "## Filtering the data\n",
    "\n",
    "You may what to only use part of your dataset at a time. You can use `where` functions to specify how to filter down to just the rows/observations you're interested in using. **Note:** This is not modifying the original table at all, it just creates a new table that contains the requested rows.\n",
    "\n",
    "Common actions used in filtering are:\n",
    "\n",
    "* `are.equal_to`\n",
    "* `are.not_equal_to(x)`\n",
    "* `are.above(x)`\n",
    "* `are.above_or_equal_to(x)`\n",
    "* `are.below(x)`\n",
    "* `are.below_or_equal_to(x)`\n",
    "* `are.between(x, y)`\n",
    "* `are.between_or_equal_to(x,y)`"
   ]
  },
  {
   "cell_type": "code",
   "execution_count": null,
   "id": "25c76470-014f-463b-a7d0-1f6311945a84",
   "metadata": {
    "tags": []
   },
   "outputs": [],
   "source": []
  },
  {
   "cell_type": "markdown",
   "id": "f58f9d85-e016-423a-8d4c-71aabe4ccf21",
   "metadata": {},
   "source": [
    "If you want to save the result of a filter, you need to assign it a new name. It is a best practice not to overwrite any tables in a notebook, but instead create a new table with a new name to store any filtered or otherwise modified data that you intend to use again later in the notebook."
   ]
  },
  {
   "cell_type": "markdown",
   "id": "28ddedee-5605-4ef2-9475-05dd8f373e4e",
   "metadata": {},
   "source": [
    "The code below will create a new Table `good_helicopter` that only contains the observations with numerical times and were not labeled as containing an anomaly in the flight."
   ]
  },
  {
   "cell_type": "code",
   "execution_count": null,
   "id": "8e915497-33c3-46a3-948a-7a4f12956a91",
   "metadata": {
    "tags": []
   },
   "outputs": [],
   "source": [
    "good_helicopter = helicopter.where('Time', are.not_equal_to(\"nan\")).where('Anomaly', are.equal_to(\"No\"))"
   ]
  },
  {
   "cell_type": "markdown",
   "id": "b0e92448-f3db-4307-a065-3ea7828cbce0",
   "metadata": {},
   "source": [
    "## Visualizing the data"
   ]
  },
  {
   "cell_type": "markdown",
   "id": "c839c027-7fce-4f25-b5ac-05f2c7bae7e0",
   "metadata": {},
   "source": [
    "You can easily create bar charts, scatter plots, line plots, and histograms depending on the data you are hoping to visualize."
   ]
  },
  {
   "cell_type": "markdown",
   "id": "7d907ff0-18c2-4693-917f-c34576f5703b",
   "metadata": {},
   "source": [
    "### Bar charts\n",
    "\n",
    "To create a bar chart you need a Table that contains a frequency count of categorical varibles. We can use the `.group` function to create such a table, and then generate the bar chart using the `bar()` function. In both cases, be sure to specify which column you are wishing to group and visualize the frequency. **Note:** When creating frequency bar charts, its usually best to sort the data before creating the chart. The code below wil use the `.sort` function to sort by the frequency in descending order before creating the bar chart."
   ]
  },
  {
   "cell_type": "code",
   "execution_count": null,
   "id": "cabb35bf-7616-4c9b-a477-74e717beda15",
   "metadata": {
    "tags": []
   },
   "outputs": [],
   "source": []
  },
  {
   "cell_type": "markdown",
   "id": "5f994499-18ae-4983-9a05-53e85a71b02b",
   "metadata": {},
   "source": [
    "### Histograms\n",
    "\n",
    "To investigate a distribution of numerical values, use a histograms! The `.hist()` function can handle this quickly. Specify the numerical column you wish to create a histogram from."
   ]
  },
  {
   "cell_type": "code",
   "execution_count": null,
   "id": "47634a95-924e-4bc7-a03c-80ba377c2b13",
   "metadata": {
    "tags": []
   },
   "outputs": [],
   "source": []
  }
 ],
 "metadata": {
  "kernelspec": {
   "display_name": "Python 3 (ipykernel)",
   "language": "python",
   "name": "python3"
  },
  "language_info": {
   "codemirror_mode": {
    "name": "ipython",
    "version": 3
   },
   "file_extension": ".py",
   "mimetype": "text/x-python",
   "name": "python",
   "nbconvert_exporter": "python",
   "pygments_lexer": "ipython3",
   "version": "3.9.9"
  }
 },
 "nbformat": 4,
 "nbformat_minor": 5
}
